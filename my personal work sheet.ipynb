{
 "cells": [
  {
   "cell_type": "code",
   "execution_count": 9,
   "id": "b4eddaea",
   "metadata": {},
   "outputs": [
    {
     "name": "stdout",
     "output_type": "stream",
     "text": [
      "A ramdon number betwwen 1 and 20:  16\n"
     ]
    }
   ],
   "source": [
    "from random import randint\n",
    "x = randint(1,20)\n",
    "print('A ramdon number betwwen 1 and 20: ', x)"
   ]
  },
  {
   "cell_type": "code",
   "execution_count": 10,
   "id": "14ebb731",
   "metadata": {},
   "outputs": [
    {
     "name": "stdout",
     "output_type": "stream",
     "text": [
      "Pi is roughly 3.141592653589793\n",
      "sin(0) = 0.0\n"
     ]
    }
   ],
   "source": [
    "from math import sin, pi\n",
    "print('Pi is roughly', pi)\n",
    "print('sin(0) =', sin(0))"
   ]
  },
  {
   "cell_type": "code",
   "execution_count": 12,
   "id": "2062d59e",
   "metadata": {},
   "outputs": [
    {
     "data": {
      "text/plain": [
       "['__doc__',\n",
       " '__loader__',\n",
       " '__name__',\n",
       " '__package__',\n",
       " '__spec__',\n",
       " 'acos',\n",
       " 'acosh',\n",
       " 'asin',\n",
       " 'asinh',\n",
       " 'atan',\n",
       " 'atan2',\n",
       " 'atanh',\n",
       " 'ceil',\n",
       " 'comb',\n",
       " 'copysign',\n",
       " 'cos',\n",
       " 'cosh',\n",
       " 'degrees',\n",
       " 'dist',\n",
       " 'e',\n",
       " 'erf',\n",
       " 'erfc',\n",
       " 'exp',\n",
       " 'expm1',\n",
       " 'fabs',\n",
       " 'factorial',\n",
       " 'floor',\n",
       " 'fmod',\n",
       " 'frexp',\n",
       " 'fsum',\n",
       " 'gamma',\n",
       " 'gcd',\n",
       " 'hypot',\n",
       " 'inf',\n",
       " 'isclose',\n",
       " 'isfinite',\n",
       " 'isinf',\n",
       " 'isnan',\n",
       " 'isqrt',\n",
       " 'ldexp',\n",
       " 'lgamma',\n",
       " 'log',\n",
       " 'log10',\n",
       " 'log1p',\n",
       " 'log2',\n",
       " 'modf',\n",
       " 'nan',\n",
       " 'perm',\n",
       " 'pi',\n",
       " 'pow',\n",
       " 'prod',\n",
       " 'radians',\n",
       " 'remainder',\n",
       " 'sin',\n",
       " 'sinh',\n",
       " 'sqrt',\n",
       " 'tan',\n",
       " 'tanh',\n",
       " 'tau',\n",
       " 'trunc']"
      ]
     },
     "execution_count": 12,
     "metadata": {},
     "output_type": "execute_result"
    }
   ],
   "source": [
    ">>> import math\n",
    ">>> dir(math)"
   ]
  },
  {
   "cell_type": "code",
   "execution_count": 15,
   "id": "7cf1c17e",
   "metadata": {},
   "outputs": [
    {
     "name": "stdout",
     "output_type": "stream",
     "text": [
      "Help on built-in function floor in module math:\n",
      "\n",
      "floor(x, /)\n",
      "    Return the floor of x as an Integral.\n",
      "    \n",
      "    This is the largest integer <= x.\n",
      "\n"
     ]
    }
   ],
   "source": [
    "help(math.floor)"
   ]
  },
  {
   "cell_type": "code",
   "execution_count": 26,
   "id": "206a463b",
   "metadata": {},
   "outputs": [
    {
     "ename": "IndentationError",
     "evalue": "expected an indented block (<ipython-input-26-821ce78ed521>, line 5)",
     "output_type": "error",
     "traceback": [
      "\u001b[1;36m  File \u001b[1;32m\"<ipython-input-26-821ce78ed521>\"\u001b[1;36m, line \u001b[1;32m5\u001b[0m\n\u001b[1;33m    s = s + 1/n**2\u001b[0m\n\u001b[1;37m    ^\u001b[0m\n\u001b[1;31mIndentationError\u001b[0m\u001b[1;31m:\u001b[0m expected an indented block\n"
     ]
    }
   ],
   "source": [
    ">>> 23**2\n",
    "529\n",
    ">>> s = 0\n",
    ">>> for n in range(1,10001):\n",
    "s = s + 1/n**2\n",
    ">>> s\n",
    "1.6448340718480652\n",
    ">>> from math import *\n",
    ">>> factorial(10)\n",
    "3628800"
   ]
  },
  {
   "cell_type": "code",
   "execution_count": 3,
   "id": "c18e9ab9",
   "metadata": {},
   "outputs": [
    {
     "name": "stdout",
     "output_type": "stream",
     "text": [
      "A random number between 3 and 6:  33\n"
     ]
    }
   ],
   "source": [
    "from random import randint\n",
    "x = randint(1,50)\n",
    "print('A random number between 3 and 6: ', x)"
   ]
  },
  {
   "cell_type": "code",
   "execution_count": 46,
   "id": "d7a304f9",
   "metadata": {},
   "outputs": [
    {
     "name": "stdout",
     "output_type": "stream",
     "text": [
      "A random number between 1 and 50:  29\n",
      "A random number between 2 and 5:  2\n",
      "58\n"
     ]
    }
   ],
   "source": [
    "from random import randint\n",
    "x = randint(1,50)\n",
    "print('A random number between 1 and 50: ', x)\n",
    "\n",
    "from random import randint\n",
    "y = randint(2,5)\n",
    "print('A random number between 2 and 5: ', y)\n",
    "\n",
    "xy = x**y\n",
    "print(x*y)"
   ]
  },
  {
   "cell_type": "code",
   "execution_count": 45,
   "id": "0a2b8271",
   "metadata": {},
   "outputs": [
    {
     "name": "stdout",
     "output_type": "stream",
     "text": [
      "A random number between 1 and 10:  4\n",
      "dominion\n",
      "dominion\n",
      "dominion\n",
      "dominion\n"
     ]
    }
   ],
   "source": [
    "from random import randint\n",
    "x = randint(1,10)\n",
    "print('A random number between 1 and 10: ', x)\n",
    "\n",
    "for i in range(x):\n",
    "    print('dominion')"
   ]
  },
  {
   "cell_type": "code",
   "execution_count": 61,
   "id": "fc68f664",
   "metadata": {},
   "outputs": [
    {
     "name": "stdout",
     "output_type": "stream",
     "text": [
      "A random decimal number between 1 and 10:  1.55\n"
     ]
    }
   ],
   "source": [
    "import random\n",
    "import math\n",
    "\n",
    "x = round(random.uniform(1,10), 2)\n",
    "\n",
    "print('A random decimal number between 1 and 10: ', x)"
   ]
  },
  {
   "cell_type": "code",
   "execution_count": 58,
   "id": "a7e811e1",
   "metadata": {},
   "outputs": [
    {
     "ename": "TypeError",
     "evalue": "randint() missing 1 required positional argument: 'b'",
     "output_type": "error",
     "traceback": [
      "\u001b[1;31m---------------------------------------------------------------------------\u001b[0m",
      "\u001b[1;31mTypeError\u001b[0m                                 Traceback (most recent call last)",
      "\u001b[1;32m<ipython-input-58-7a7b48650be2>\u001b[0m in \u001b[0;36m<module>\u001b[1;34m\u001b[0m\n\u001b[0;32m      1\u001b[0m \u001b[1;32mfrom\u001b[0m \u001b[0mrandom\u001b[0m \u001b[1;32mimport\u001b[0m \u001b[0mrandint\u001b[0m\u001b[1;33m\u001b[0m\u001b[1;33m\u001b[0m\u001b[0m\n\u001b[1;32m----> 2\u001b[1;33m \u001b[0mx\u001b[0m \u001b[1;33m=\u001b[0m \u001b[0mrandint\u001b[0m\u001b[1;33m(\u001b[0m\u001b[1;36m50\u001b[0m\u001b[1;33m)\u001b[0m\u001b[1;33m\u001b[0m\u001b[1;33m\u001b[0m\u001b[0m\n\u001b[0m\u001b[0;32m      3\u001b[0m \u001b[0mprint\u001b[0m\u001b[1;33m(\u001b[0m\u001b[1;34m'A random number between 1 and 2: '\u001b[0m\u001b[1;33m,\u001b[0m \u001b[0mx\u001b[0m\u001b[1;33m)\u001b[0m\u001b[1;33m\u001b[0m\u001b[1;33m\u001b[0m\u001b[0m\n\u001b[0;32m      4\u001b[0m \u001b[0mprint\u001b[0m\u001b[1;33m(\u001b[0m\u001b[1;34m'A random number between 1 and 3: '\u001b[0m\u001b[1;33m,\u001b[0m \u001b[0mx\u001b[0m\u001b[1;33m)\u001b[0m\u001b[1;33m\u001b[0m\u001b[1;33m\u001b[0m\u001b[0m\n\u001b[0;32m      5\u001b[0m \u001b[0mprint\u001b[0m\u001b[1;33m(\u001b[0m\u001b[1;34m'A random number between 1 and 4: '\u001b[0m\u001b[1;33m,\u001b[0m \u001b[0mx\u001b[0m\u001b[1;33m)\u001b[0m\u001b[1;33m\u001b[0m\u001b[1;33m\u001b[0m\u001b[0m\n",
      "\u001b[1;31mTypeError\u001b[0m: randint() missing 1 required positional argument: 'b'"
     ]
    }
   ],
   "source": [
    "from random import randint\n",
    "x = randint(50)\n",
    "print('A random number between 1 and 2: ', x)\n",
    "print('A random number between 1 and 3: ', x)\n",
    "print('A random number between 1 and 4: ', x)\n",
    "print('A random number between 1 and 51: ', x)\n"
   ]
  },
  {
   "cell_type": "code",
   "execution_count": 29,
   "id": "67379f5a",
   "metadata": {},
   "outputs": [
    {
     "name": "stdout",
     "output_type": "stream",
     "text": [
      "5\n",
      "5\n",
      "3\n",
      "4\n",
      "3\n",
      "4\n",
      "3\n",
      "4\n",
      "6\n",
      "5\n",
      "3\n",
      "4\n",
      "4\n",
      "5\n",
      "5\n",
      "6\n",
      "4\n",
      "3\n",
      "6\n",
      "5\n",
      "3\n",
      "3\n",
      "6\n",
      "6\n",
      "3\n",
      "3\n",
      "3\n",
      "5\n",
      "3\n",
      "5\n",
      "4\n",
      "6\n",
      "5\n",
      "3\n",
      "5\n",
      "6\n",
      "4\n",
      "6\n",
      "5\n",
      "3\n",
      "4\n",
      "3\n",
      "3\n",
      "3\n",
      "6\n",
      "3\n",
      "4\n",
      "5\n",
      "5\n",
      "6\n"
     ]
    }
   ],
   "source": [
    "import math\n",
    "import random\n",
    "from random import randint\n",
    "for i in range(50):\n",
    "    value = random.randint(3,6)\n",
    "    print(value)\n",
    "    "
   ]
  },
  {
   "cell_type": "code",
   "execution_count": 19,
   "id": "ed7733c0",
   "metadata": {},
   "outputs": [
    {
     "name": "stdout",
     "output_type": "stream",
     "text": [
      "enter number x: 5\n",
      "enter number y: 10\n",
      " the value of xy:  9.0\n"
     ]
    }
   ],
   "source": [
    "x = eval(input('enter number x: '))\n",
    "y = eval(input('enter number y: '))\n",
    "xy = (x-y)/x+y\n",
    "print(' the value of xy: ', (x-y)/x+y)"
   ]
  },
  {
   "cell_type": "code",
   "execution_count": 39,
   "id": "eb470468",
   "metadata": {},
   "outputs": [
    {
     "name": "stdout",
     "output_type": "stream",
     "text": [
      "32\n",
      "5\n",
      "33554432\n"
     ]
    }
   ],
   "source": [
    "import math\n",
    "import random\n",
    "from random import randint\n",
    "\n",
    "x = random.randint(1,50)\n",
    "print(x)\n",
    "\n",
    "y = random.randint(2,5)\n",
    "print(y)\n",
    "\n",
    "z = (x**y)\n",
    "print(z)"
   ]
  },
  {
   "cell_type": "code",
   "execution_count": 21,
   "id": "376adfa8",
   "metadata": {},
   "outputs": [
    {
     "name": "stdout",
     "output_type": "stream",
     "text": [
      "enter seconds:60\n",
      "1 minutes 0 seconds\n"
     ]
    }
   ],
   "source": [
    "s=int(input (\"enter seconds:\"))\n",
    "m=s//60\n",
    "s=s%60\n",
    "print(m,\"minutes\",s,\"seconds\")"
   ]
  },
  {
   "cell_type": "code",
   "execution_count": 22,
   "id": "b15c3a81",
   "metadata": {},
   "outputs": [
    {
     "name": "stdout",
     "output_type": "stream",
     "text": [
      "Enter the weight in KG 70\n",
      "154.0\n"
     ]
    }
   ],
   "source": [
    "kg = input(\"Enter the weight in KG \")\n",
    "pounds = float(kg) * 2.2\n",
    "print(pounds)"
   ]
  },
  {
   "cell_type": "code",
   "execution_count": 24,
   "id": "c8acf668",
   "metadata": {},
   "outputs": [
    {
     "name": "stdout",
     "output_type": "stream",
     "text": [
      "The factorial of 20 is 2432902008176640000\n"
     ]
    }
   ],
   "source": [
    "# Python program to find the factorial of a number provided by the user.\n",
    "\n",
    "# change the value for a different result\n",
    "num = 20\n",
    "\n",
    "# To take input from the user\n",
    "#num = int(input(\"Enter a number: \"))\n",
    "\n",
    "factorial = 1\n",
    "\n",
    "# check if the number is negative, positive or zero\n",
    "if num < 0:\n",
    "   print(\"Sorry, factorial does not exist for negative numbers\")\n",
    "elif num == 0:\n",
    "   print(\"The factorial of 0 is 1\")\n",
    "else:\n",
    "   for i in range(1,num + 1):\n",
    "       factorial = factorial*i\n",
    "   print(\"The factorial of\",num,\"is\",factorial)"
   ]
  },
  {
   "cell_type": "code",
   "execution_count": 25,
   "id": "2e06b4df",
   "metadata": {},
   "outputs": [
    {
     "name": "stdout",
     "output_type": "stream",
     "text": [
      "[1]: Add Contact\n",
      "[2]: Search Contact\n",
      "[3]: Edit Contact\n",
      "[4]: Delete Contact\n",
      "[#]: Exit\n",
      "Enter Option: 1\n",
      "Firstname: tola\n",
      "Lastname: kola\n",
      "Address: lekki\n",
      "Phone 1: 123456789\n",
      "Invalid phone no\n",
      "Phone 1: 09010548068\n",
      "Do you want add another phone no? (Y/N): n\n",
      "Email 1: domzeey@gmail.com\n",
      "Do you want add another email? (Y/N): n\n",
      "Save as...tboy\n",
      "Contact saved...\n",
      "[1]: Add Contact\n",
      "[2]: Search Contact\n",
      "[3]: Edit Contact\n",
      "[4]: Delete Contact\n",
      "[#]: Exit\n",
      "Enter Option: 2\n",
      "Enter Contact name: tola\n",
      "Contact does not exist!\n",
      "[1]: Add Contact\n",
      "[2]: Search Contact\n",
      "[3]: Edit Contact\n",
      "[4]: Delete Contact\n",
      "[#]: Exit\n",
      "Enter Option: 2\n",
      "Enter Contact name: tboy\n",
      "Firstname: Tola\n",
      "Lastname: Kola\n",
      "Address: lekki\n",
      "Phones: {9010548068}\n",
      "Emails: {'domzeey@gmail.com'}\n",
      "[1]: Add Contact\n",
      "[2]: Search Contact\n",
      "[3]: Edit Contact\n",
      "[4]: Delete Contact\n",
      "[#]: Exit\n",
      "Enter Option: 3\n"
     ]
    },
    {
     "ename": "KeyboardInterrupt",
     "evalue": "Interrupted by user",
     "output_type": "error",
     "traceback": [
      "\u001b[1;31m---------------------------------------------------------------------------\u001b[0m",
      "\u001b[1;31mKeyboardInterrupt\u001b[0m                         Traceback (most recent call last)",
      "\u001b[1;32m<ipython-input-25-f9805f1b8021>\u001b[0m in \u001b[0;36m<module>\u001b[1;34m\u001b[0m\n\u001b[0;32m      5\u001b[0m \u001b[1;33m\u001b[0m\u001b[0m\n\u001b[0;32m      6\u001b[0m \u001b[1;32mwhile\u001b[0m \u001b[1;32mTrue\u001b[0m\u001b[1;33m:\u001b[0m\u001b[1;33m\u001b[0m\u001b[1;33m\u001b[0m\u001b[0m\n\u001b[1;32m----> 7\u001b[1;33m    choice = input('[1]: Add Contact\\n[2]: Search Contact\\n'\\\n\u001b[0m\u001b[0;32m      8\u001b[0m                  \u001b[1;34m'[3]: Edit Contact\\n[4]: Delete Contact\\n'\u001b[0m\u001b[0;31m\\\u001b[0m\u001b[1;33m\u001b[0m\u001b[1;33m\u001b[0m\u001b[0m\n\u001b[0;32m      9\u001b[0m                  '[#]: Exit\\nEnter Option: ')\n",
      "\u001b[1;32mC:\\ProgramData\\Anaconda3\\lib\\site-packages\\ipykernel\\kernelbase.py\u001b[0m in \u001b[0;36mraw_input\u001b[1;34m(self, prompt)\u001b[0m\n\u001b[0;32m    858\u001b[0m                 \u001b[1;34m\"raw_input was called, but this frontend does not support input requests.\"\u001b[0m\u001b[1;33m\u001b[0m\u001b[1;33m\u001b[0m\u001b[0m\n\u001b[0;32m    859\u001b[0m             )\n\u001b[1;32m--> 860\u001b[1;33m         return self._input_request(str(prompt),\n\u001b[0m\u001b[0;32m    861\u001b[0m             \u001b[0mself\u001b[0m\u001b[1;33m.\u001b[0m\u001b[0m_parent_ident\u001b[0m\u001b[1;33m,\u001b[0m\u001b[1;33m\u001b[0m\u001b[1;33m\u001b[0m\u001b[0m\n\u001b[0;32m    862\u001b[0m             \u001b[0mself\u001b[0m\u001b[1;33m.\u001b[0m\u001b[0m_parent_header\u001b[0m\u001b[1;33m,\u001b[0m\u001b[1;33m\u001b[0m\u001b[1;33m\u001b[0m\u001b[0m\n",
      "\u001b[1;32mC:\\ProgramData\\Anaconda3\\lib\\site-packages\\ipykernel\\kernelbase.py\u001b[0m in \u001b[0;36m_input_request\u001b[1;34m(self, prompt, ident, parent, password)\u001b[0m\n\u001b[0;32m    902\u001b[0m             \u001b[1;32mexcept\u001b[0m \u001b[0mKeyboardInterrupt\u001b[0m\u001b[1;33m:\u001b[0m\u001b[1;33m\u001b[0m\u001b[1;33m\u001b[0m\u001b[0m\n\u001b[0;32m    903\u001b[0m                 \u001b[1;31m# re-raise KeyboardInterrupt, to truncate traceback\u001b[0m\u001b[1;33m\u001b[0m\u001b[1;33m\u001b[0m\u001b[1;33m\u001b[0m\u001b[0m\n\u001b[1;32m--> 904\u001b[1;33m                 \u001b[1;32mraise\u001b[0m \u001b[0mKeyboardInterrupt\u001b[0m\u001b[1;33m(\u001b[0m\u001b[1;34m\"Interrupted by user\"\u001b[0m\u001b[1;33m)\u001b[0m \u001b[1;32mfrom\u001b[0m \u001b[1;32mNone\u001b[0m\u001b[1;33m\u001b[0m\u001b[1;33m\u001b[0m\u001b[0m\n\u001b[0m\u001b[0;32m    905\u001b[0m             \u001b[1;32mexcept\u001b[0m \u001b[0mException\u001b[0m \u001b[1;32mas\u001b[0m \u001b[0me\u001b[0m\u001b[1;33m:\u001b[0m\u001b[1;33m\u001b[0m\u001b[1;33m\u001b[0m\u001b[0m\n\u001b[0;32m    906\u001b[0m                 \u001b[0mself\u001b[0m\u001b[1;33m.\u001b[0m\u001b[0mlog\u001b[0m\u001b[1;33m.\u001b[0m\u001b[0mwarning\u001b[0m\u001b[1;33m(\u001b[0m\u001b[1;34m\"Invalid Message:\"\u001b[0m\u001b[1;33m,\u001b[0m \u001b[0mexc_info\u001b[0m\u001b[1;33m=\u001b[0m\u001b[1;32mTrue\u001b[0m\u001b[1;33m)\u001b[0m\u001b[1;33m\u001b[0m\u001b[1;33m\u001b[0m\u001b[0m\n",
      "\u001b[1;31mKeyboardInterrupt\u001b[0m: Interrupted by user"
     ]
    }
   ],
   "source": [
    " import numbers\n",
    "\n",
    "contact_book = {}\n",
    "trial = 0\n",
    "\n",
    "while True:\n",
    "    choice = input('[1]: Add Contact\\n[2]: Search Contact\\n'\\\n",
    "                  '[3]: Edit Contact\\n[4]: Delete Contact\\n'\\\n",
    "                  '[#]: Exit\\nEnter Option: ')\n",
    "    \n",
    "    if choice == '1':\n",
    "        firstname = input('Firstname: ').capitalize()\n",
    "        lastname = input('Lastname: ').capitalize()\n",
    "        address = input('Address: ')\n",
    "        phones = set()\n",
    "        phone_cnt = len(phones) + 1\n",
    "        emails = set()\n",
    "        email_cnt = len(emails) + 1\n",
    "        \n",
    "        while True:\n",
    "            \n",
    "            phone = input(f'Phone {phone_cnt}: ')\n",
    "            if len(phone) != 11:\n",
    "                print('Invalid phone no')\n",
    "                continue\n",
    "            elif not isinstance(int(phone), numbers.Number):\n",
    "                print('input numbers only')\n",
    "                continue\n",
    "            else:\n",
    "                phone = int(phone)\n",
    "                phones.add(phone)\n",
    "                phone_cnt += 1\n",
    "                ans = input('Do you want add another phone no? (Y/N): ').upper()\n",
    "                if ans != 'Y':\n",
    "                    break     \n",
    "                    \n",
    "        while True:\n",
    "            email = input(f'Email {email_cnt}: ')\n",
    "            emails.add(email)\n",
    "            email_cnt += 1\n",
    "            ans = input('Do you want add another email? (Y/N): ').upper()\n",
    "            if ans != 'Y':\n",
    "                break     \n",
    "                    \n",
    "        while True:\n",
    "            key = input('Save as...')\n",
    "            if key in contact_book:\n",
    "                print('Contact already exist!')\n",
    "            else:\n",
    "                contact_book[key] = {'fname': firstname,\n",
    "                                    'lname': lastname,\n",
    "                                    'add': address,\n",
    "                                    'phones': phones,\n",
    "                                    'emails': emails}\n",
    "                print('Contact saved...')\n",
    "                break\n",
    "    elif choice == '2':\n",
    "        if contact_book:\n",
    "            key = input('Enter Contact name: ')\n",
    "            if key in contact_book:\n",
    "                contact = contact_book[key]\n",
    "                print(f'Firstname: {contact[\"fname\"]}')\n",
    "                print(f'Lastname: {contact[\"lname\"]}')\n",
    "                print(f'Address: {contact[\"add\"]}')\n",
    "                print(f'Phones: {contact[\"phones\"]}')\n",
    "                print(f'Emails: {contact[\"emails\"]}')\n",
    "            else:\n",
    "                print('Contact does not exist!')\n",
    "        else:\n",
    "            print('Contact list empty')\n",
    "    elif choice == '3':\n",
    "        pass\n",
    "    elif choice == '4':\n",
    "        pass\n",
    "    elif choice == '#':\n",
    "        break\n",
    "    else:\n",
    "        print('Invalid Option')\n",
    "        trial += 1\n",
    "        if trial == 3:\n",
    "            break"
   ]
  },
  {
   "cell_type": "code",
   "execution_count": 28,
   "id": "9ac0feff",
   "metadata": {},
   "outputs": [
    {
     "name": "stdout",
     "output_type": "stream",
     "text": [
      "02AEytPR.txt -- 2.754kb\n",
      "271490537_237995031788625_8520369240841123862_n (1).jpg -- 392.97kb\n",
      "271490537_237995031788625_8520369240841123862_n.jpg -- 392.97kb\n",
      "271520567_237994845121977_4967525653304872153_n.jpg -- 383.563kb\n",
      "Account_Statement.pdf -- 307.254kb\n",
      "A_Practical_Introduction_to_Python_Programming_Heinold.pdf -- 2071.444kb\n",
      "ChromeSetup.exe -- 1414.6kb\n",
      "client (1).ovpn -- 19.797kb\n",
      "client (2).ovpn -- 19.797kb\n",
      "client (3).ovpn -- 19.797kb\n",
      "client.ovpn -- 19.797kb\n",
      "desktop.ini -- 0.282kb\n",
      "Dominion Solomon - 2022-06-22.pdf -- 512.435kb\n",
      "GIGGLES-N-GURGLES_CommercialFullCredit (1).pdf -- 107.551kb\n",
      "GIGGLES-N-GURGLES_CommercialFullCredit.pdf -- 107.551kb\n",
      "history (3) (1).pdf -- 309.81kb\n",
      "history (3).pdf -- 309.81kb\n",
      "Ind-eTcc (2).pdf -- 447.614kb\n",
      "LOAN REPORT - NPL Report by State-data-2021-11-21 09_15_42-merged.pdf -- 336.306kb\n",
      "openvpn-connect-3.1.3.713_signed (1).msi -- 61091.543kb\n",
      "openvpn-connect-3.1.3.713_signed.msi -- 61091.543kb\n",
      "openvpn-connect-3.3.4.2600_signed.msi -- 70979.584kb\n",
      "pdfcoffee.com_python-for-programmers-deitel-deitel-pdf-free.pdf -- 11453.239kb\n",
      "pix.jpg -- 479.939kb\n",
      "RESTRUCTURING_ REPAYMENT AGREEMENT FOR D-one Enterprises.pdf -- 41.571kb\n",
      "RESTRUCTURING_ REPAYMENT AGREEMENT FOR GOBEMS INTEGRATED SERVICES  (1).docx -- 471.106kb\n",
      "RESTRUCTURING_ REPAYMENT AGREEMENT FOR GOBEMS INTEGRATED SERVICES .docx -- 471.106kb\n",
      "Setup (1).msi -- 26736.64kb\n",
      "Setup (2).msi -- 26736.64kb\n",
      "Setup.msi -- 26736.64kb\n",
      "WhatsAppSetup.exe -- 134717.648kb\n",
      "ZoomInstaller.exe -- 20096.832kb\n",
      "\n"
     ]
    }
   ],
   "source": [
    "import os\n",
    "\n",
    "dirPath = 'c:/Users/dominion.solomon/Downloads'\n",
    "folder_cont = os.listdir(dirPath)\n",
    "\n",
    "for x in folder_cont:\n",
    "    filePath = dirPath + '/' + x\n",
    "    size = os.stat(filePath).st_size\n",
    "    outputStr = x + ' -- ' + str(size/1000) + 'kb'\n",
    "    print(outputStr)\n",
    "print()"
   ]
  },
  {
   "cell_type": "code",
   "execution_count": 92,
   "id": "e991eec3",
   "metadata": {},
   "outputs": [
    {
     "name": "stdout",
     "output_type": "stream",
     "text": [
      "2\n",
      "3\n",
      "2\n",
      "1\n",
      "5\n",
      "5\n",
      "7\n",
      "7\n",
      "4\n",
      "1\n",
      "2\n",
      "11\n",
      "13\n",
      "3\n",
      "15\n",
      "2\n",
      "9\n",
      "17\n",
      "17\n",
      "16\n",
      "9\n",
      "15\n",
      "18\n",
      "8\n",
      "17\n",
      "22\n",
      "25\n",
      "5\n",
      "10\n",
      "23\n",
      "5\n",
      "17\n",
      "20\n",
      "17\n",
      "1\n",
      "30\n",
      "16\n",
      "26\n",
      "34\n",
      "23\n",
      "40\n",
      "35\n",
      "19\n",
      "12\n",
      "23\n",
      "5\n",
      "25\n",
      "22\n",
      "42\n"
     ]
    }
   ],
   "source": [
    "import math\n",
    "import random\n",
    "for i in range(2,51):\n",
    "    number = random.randint(1,i)\n",
    "    print(number)\n",
    "    "
   ]
  },
  {
   "cell_type": "code",
   "execution_count": 95,
   "id": "583c138d",
   "metadata": {},
   "outputs": [
    {
     "name": "stdout",
     "output_type": "stream",
     "text": [
      "1 --2\n",
      "1 --3\n",
      "1 --4\n",
      "1 --5\n",
      "1 --6\n",
      "1 --7\n",
      "1 --8\n",
      "1 --9\n",
      "1 --10\n",
      "1 --11\n",
      "1 --12\n",
      "1 --13\n",
      "1 --14\n",
      "1 --15\n",
      "1 --16\n",
      "1 --17\n",
      "1 --18\n",
      "1 --19\n",
      "1 --20\n",
      "1 --21\n",
      "1 --22\n",
      "1 --23\n",
      "1 --24\n",
      "1 --25\n",
      "1 --26\n",
      "1 --27\n",
      "1 --28\n",
      "1 --29\n",
      "1 --30\n",
      "1 --31\n",
      "1 --32\n",
      "1 --33\n",
      "1 --34\n",
      "1 --35\n",
      "1 --36\n",
      "1 --37\n",
      "1 --38\n",
      "1 --39\n",
      "1 --40\n",
      "1 --41\n",
      "1 --42\n",
      "1 --43\n",
      "1 --44\n",
      "1 --45\n",
      "1 --46\n",
      "1 --47\n",
      "1 --48\n",
      "1 --49\n",
      "1 --50\n"
     ]
    }
   ],
   "source": [
    "for i in range(2,51):\n",
    "    print('1 --' + str(i))\n",
    " "
   ]
  },
  {
   "cell_type": "code",
   "execution_count": 16,
   "id": "a3055b55",
   "metadata": {},
   "outputs": [
    {
     "name": "stdout",
     "output_type": "stream",
     "text": [
      "50 --50\n",
      "50 --55\n",
      "50 --60\n",
      "50 --65\n",
      "50 --70\n",
      "50 --75\n",
      "50 --80\n",
      "50 --85\n",
      "50 --90\n",
      "50 --95\n"
     ]
    }
   ],
   "source": [
    "#write a progam that generate 10 random numbers, the first number should be between 50 and 55, second 50 and 60, third 50 and 65,... etc\n",
    "\n",
    "for i in range(50,100,5):\n",
    "    print('50 --' + str(i))"
   ]
  },
  {
   "cell_type": "code",
   "execution_count": 23,
   "id": "0fbd53a9",
   "metadata": {},
   "outputs": [
    {
     "name": "stdout",
     "output_type": "stream",
     "text": [
      "input number x: 10\n",
      "input number y: 5\n",
      "the value of:  5.5\n"
     ]
    }
   ],
   "source": [
    "x = eval(input('input number x: '))\n",
    "y = eval(input('input number y: '))\n",
    "xy = (x-y)/x+y\n",
    "print('the value of: ', (x-y)/x+y)\n"
   ]
  },
  {
   "cell_type": "code",
   "execution_count": 13,
   "id": "b3b7f338",
   "metadata": {},
   "outputs": [
    {
     "name": "stdout",
     "output_type": "stream",
     "text": [
      "**********\n",
      "**********\n",
      "**********\n",
      "**********\n"
     ]
    }
   ],
   "source": [
    "for i in range(4):\n",
    "    print('*'*10)"
   ]
  },
  {
   "cell_type": "code",
   "execution_count": 15,
   "id": "d11ca220",
   "metadata": {},
   "outputs": [
    {
     "name": "stdout",
     "output_type": "stream",
     "text": [
      "***************\n",
      "*             *\n",
      "*             *\n",
      "***************\n"
     ]
    }
   ],
   "source": [
    "print('***************')\n",
    "print('*             *')\n",
    "print('*             *')\n",
    "print('***************')"
   ]
  },
  {
   "cell_type": "code",
   "execution_count": 16,
   "id": "6108b47b",
   "metadata": {},
   "outputs": [
    {
     "name": "stdout",
     "output_type": "stream",
     "text": [
      "*\n",
      "**\n",
      "***\n",
      "****\n",
      "*****\n"
     ]
    }
   ],
   "source": [
    "print('*')\n",
    "print('**')\n",
    "print('***')\n",
    "print('****')\n",
    "print('*****')"
   ]
  },
  {
   "cell_type": "code",
   "execution_count": 17,
   "id": "b68fd9c4",
   "metadata": {},
   "outputs": [
    {
     "name": "stdout",
     "output_type": "stream",
     "text": [
      "the value of 4.556259904912837\n"
     ]
    }
   ],
   "source": [
    "print('the value of', (512-282)/(45.48+5))"
   ]
  },
  {
   "cell_type": "code",
   "execution_count": 1,
   "id": "0e86c3a2",
   "metadata": {},
   "outputs": [
    {
     "name": "stdout",
     "output_type": "stream",
     "text": [
      "0.1017249004865104\n"
     ]
    }
   ],
   "source": [
    "a = 512-282\n",
    "b = (47*48)+5\n",
    "c = a/b\n",
    "print(c)"
   ]
  },
  {
   "cell_type": "code",
   "execution_count": 22,
   "id": "892986c2",
   "metadata": {},
   "outputs": [
    {
     "name": "stdout",
     "output_type": "stream",
     "text": [
      "enter a number: 5\n",
      "the square of 5 is 25\n"
     ]
    }
   ],
   "source": [
    "x = eval(input('enter a number: '))\n",
    "print('the square of 5 is', (x)*(x))"
   ]
  },
  {
   "cell_type": "code",
   "execution_count": 25,
   "id": "550ebd1e",
   "metadata": {},
   "outputs": [
    {
     "name": "stdout",
     "output_type": "stream",
     "text": [
      "Enter a number: 5\n",
      "5---10---15---20---25\n"
     ]
    }
   ],
   "source": [
    "x=eval(input(\"Enter a number: \"))\n",
    "print(x,2*x,3*x,4*x,5*x, sep='---')"
   ]
  },
  {
   "cell_type": "code",
   "execution_count": 27,
   "id": "930372bd",
   "metadata": {},
   "outputs": [
    {
     "name": "stdout",
     "output_type": "stream",
     "text": [
      "Enter weight in kilogram: 5\n",
      "In pounds, that is 11.0\n"
     ]
    }
   ],
   "source": [
    "x = eval(input('Enter weight in kilogram: '))\n",
    "print('In pounds, that is', 2.2*x)\n"
   ]
  },
  {
   "cell_type": "code",
   "execution_count": 28,
   "id": "4b8e2428",
   "metadata": {},
   "outputs": [
    {
     "name": "stdout",
     "output_type": "stream",
     "text": [
      "Enter the weight in KG 5\n",
      "11.0\n"
     ]
    }
   ],
   "source": [
    "kg = input(\"Enter the weight in KG \")\n",
    "pounds = float(kg) * 2.2\n",
    "print(pounds)"
   ]
  },
  {
   "cell_type": "code",
   "execution_count": 31,
   "id": "455df1aa",
   "metadata": {},
   "outputs": [
    {
     "name": "stdout",
     "output_type": "stream",
     "text": [
      "enter a value a: 5\n",
      "enter a value b: 10\n",
      "enter a value c: 15\n",
      "the total of the values 30\n",
      "the average of the value 10.0\n"
     ]
    }
   ],
   "source": [
    "a = eval(input('enter a value a: '))\n",
    "b = eval(input('enter a value b: '))\n",
    "c = eval(input('enter a value c: '))\n",
    "d = a+b+c\n",
    "print('the total of the values', d)\n",
    "f = d/3\n",
    "print('the average of the value', f)"
   ]
  },
  {
   "cell_type": "code",
   "execution_count": 35,
   "id": "5348ca53",
   "metadata": {},
   "outputs": [
    {
     "name": "stdout",
     "output_type": "stream",
     "text": [
      "Enter the price of meal : 1000\n",
      "Enter the percent of tip you wana leave : 5\n",
      "Bill of meal :  1000 Total bill :  21000.0\n"
     ]
    }
   ],
   "source": [
    "h = int(input('Enter the price of meal : '))\n",
    "i = int(input('Enter the percent of tip you wana leave : '))\n",
    "t=(h/i)*100\n",
    "j = h + t\n",
    "print('Bill of meal : ', h, 'Total bill : ' , j)\n"
   ]
  },
  {
   "cell_type": "code",
   "execution_count": 38,
   "id": "fed011c1",
   "metadata": {},
   "outputs": [
    {
     "name": "stdout",
     "output_type": "stream",
     "text": [
      "Enter a number: 5\n",
      "The square of your number is 25\n",
      "Enter a number: 15\n",
      "The square of your number is 225\n",
      "Enter a number: 20\n",
      "The square of your number is 400\n",
      "The loop is now done.\n"
     ]
    }
   ],
   "source": [
    "for i in range(3):\n",
    "    num = eval(input('Enter a number: '))\n",
    "    print ('The square of your number is', num*num)\n",
    "print('The loop is now done.')"
   ]
  },
  {
   "cell_type": "code",
   "execution_count": 40,
   "id": "e4ec87e4",
   "metadata": {},
   "outputs": [
    {
     "name": "stdout",
     "output_type": "stream",
     "text": [
      "A\n",
      "B\n",
      "C\n",
      "D\n",
      "C\n",
      "D\n",
      "C\n",
      "D\n",
      "C\n",
      "D\n",
      "C\n",
      "D\n",
      "E\n"
     ]
    }
   ],
   "source": [
    "print('A')\n",
    "print('B')\n",
    "for i in range(5):\n",
    "    print('C')\n",
    "    print('D')\n",
    "print('E')"
   ]
  },
  {
   "cell_type": "code",
   "execution_count": 41,
   "id": "d14c24d6",
   "metadata": {},
   "outputs": [
    {
     "name": "stdout",
     "output_type": "stream",
     "text": [
      "A\n",
      "B\n",
      "C\n",
      "C\n",
      "C\n",
      "C\n",
      "C\n",
      "D\n",
      "D\n",
      "D\n",
      "D\n",
      "D\n",
      "E\n"
     ]
    }
   ],
   "source": [
    "print('A')\n",
    "print('B')\n",
    "for i in range(5):\n",
    "    print('C')\n",
    "for i in range(5):\n",
    "    print('D')\n",
    "print('E')"
   ]
  },
  {
   "cell_type": "code",
   "execution_count": 44,
   "id": "026987e5",
   "metadata": {},
   "outputs": [
    {
     "name": "stdout",
     "output_type": "stream",
     "text": [
      "1 -- Hello\n",
      "2 -- Hello\n",
      "3 -- Hello\n"
     ]
    }
   ],
   "source": [
    "for i in range(3):\n",
    "    print(i+1, '-- Hello')"
   ]
  },
  {
   "cell_type": "code",
   "execution_count": 47,
   "id": "caca8903",
   "metadata": {},
   "outputs": [
    {
     "name": "stdout",
     "output_type": "stream",
     "text": [
      "dominion\n",
      "dominion\n",
      "dominion\n",
      "dominion\n",
      "dominion\n",
      "dominion\n",
      "dominion\n",
      "dominion\n",
      "dominion\n",
      "dominion\n"
     ]
    }
   ],
   "source": [
    "for i in range(10):\n",
    "    print('dominion')"
   ]
  },
  {
   "cell_type": "code",
   "execution_count": 62,
   "id": "ebab42b9",
   "metadata": {},
   "outputs": [
    {
     "name": "stdout",
     "output_type": "stream",
     "text": [
      "dominion\n",
      "dominion\n",
      "dominion\n",
      "dominion\n",
      "dominion\n",
      "dominion\n",
      "dominion\n",
      "dominion\n",
      "dominion\n",
      "dominion\n",
      "dominion dominion dominion dominion dominion dominion dominion dominion dominion dominion "
     ]
    }
   ],
   "source": [
    "for i in range(10):\n",
    "    print('dominion')\n",
    "for i in range(10):\n",
    "    print('dominion',  end=' ')\n"
   ]
  },
  {
   "cell_type": "code",
   "execution_count": 65,
   "id": "b8a813d8",
   "metadata": {},
   "outputs": [
    {
     "name": "stdout",
     "output_type": "stream",
     "text": [
      "1 dominion\n",
      "2 dominion\n",
      "3 dominion\n",
      "4 dominion\n",
      "5 dominion\n",
      "6 dominion\n",
      "7 dominion\n",
      "8 dominion\n",
      "9 dominion\n",
      "10 dominion\n",
      "11 dominion\n",
      "12 dominion\n",
      "13 dominion\n",
      "14 dominion\n",
      "15 dominion\n",
      "16 dominion\n",
      "17 dominion\n",
      "18 dominion\n",
      "19 dominion\n",
      "20 dominion\n"
     ]
    }
   ],
   "source": [
    "for i in range(0,20):\n",
    "    print(i+1, 'dominion')"
   ]
  },
  {
   "cell_type": "code",
   "execution_count": 76,
   "id": "b7bdd008",
   "metadata": {},
   "outputs": [
    {
     "name": "stdout",
     "output_type": "stream",
     "text": [
      "1----0\n",
      "2----2\n",
      "3----4\n",
      "4----6\n",
      "5----8\n",
      "6----10\n",
      "7----12\n",
      "8----14\n",
      "9----16\n",
      "10----18\n",
      "11----20\n",
      "12----22\n",
      "13----24\n",
      "14----26\n",
      "15----28\n",
      "16----30\n",
      "17----32\n",
      "18----34\n",
      "19----36\n",
      "20----38\n"
     ]
    }
   ],
   "source": [
    "for i in range(0,20):\n",
    "    print(i+1, (i)*2, sep='----')"
   ]
  },
  {
   "cell_type": "code",
   "execution_count": 80,
   "id": "7702951a",
   "metadata": {},
   "outputs": [
    {
     "name": "stdout",
     "output_type": "stream",
     "text": [
      "8\n",
      "11\n",
      "14\n",
      "17\n",
      "20\n",
      "23\n",
      "26\n",
      "29\n",
      "32\n",
      "35\n",
      "38\n",
      "41\n",
      "44\n",
      "47\n",
      "50\n",
      "53\n",
      "56\n",
      "59\n",
      "62\n",
      "65\n",
      "68\n",
      "71\n",
      "74\n",
      "77\n",
      "80\n",
      "83\n",
      "86\n",
      "89\n"
     ]
    }
   ],
   "source": [
    "for i in range(8,90,3):\n",
    "    print(i)"
   ]
  },
  {
   "cell_type": "code",
   "execution_count": 82,
   "id": "e9c56193",
   "metadata": {},
   "outputs": [
    {
     "name": "stdout",
     "output_type": "stream",
     "text": [
      "50\n",
      "49\n",
      "48\n",
      "47\n",
      "46\n",
      "45\n",
      "44\n",
      "43\n",
      "42\n",
      "41\n",
      "40\n",
      "39\n",
      "38\n",
      "37\n",
      "36\n",
      "35\n",
      "34\n",
      "33\n",
      "32\n",
      "31\n",
      "30\n",
      "29\n",
      "28\n",
      "27\n",
      "26\n",
      "25\n",
      "24\n",
      "23\n",
      "22\n",
      "21\n",
      "20\n",
      "19\n",
      "18\n",
      "17\n",
      "16\n",
      "15\n",
      "14\n",
      "13\n",
      "12\n",
      "11\n",
      "10\n",
      "9\n",
      "8\n",
      "7\n",
      "6\n",
      "5\n",
      "4\n",
      "3\n",
      "2\n"
     ]
    }
   ],
   "source": [
    "for i in range(50,1,-1):\n",
    "    print(i)"
   ]
  },
  {
   "cell_type": "code",
   "execution_count": 1,
   "id": "bdd7f903",
   "metadata": {},
   "outputs": [
    {
     "name": "stdout",
     "output_type": "stream",
     "text": [
      "A\n",
      "A\n",
      "A\n",
      "A\n",
      "A\n",
      "A\n",
      "A\n",
      "A\n",
      "A\n",
      "A\n",
      "B\n",
      "B\n",
      "B\n",
      "B\n",
      "B\n",
      "CD\n",
      "CD\n",
      "CD\n",
      "CD\n",
      "E\n",
      "F\n",
      "F\n",
      "F\n",
      "F\n",
      "F\n",
      "F\n",
      "G\n"
     ]
    }
   ],
   "source": [
    "for i in range(10):\n",
    "    print('A')\n",
    "for i in range(5):\n",
    "    print('B')\n",
    "for i in range(4):\n",
    "    print('CD')\n",
    "print('E')\n",
    "for i in range(6):\n",
    "    print('F')\n",
    "print('G')"
   ]
  },
  {
   "cell_type": "code",
   "execution_count": 4,
   "id": "71a01a42",
   "metadata": {},
   "outputs": [
    {
     "name": "stdout",
     "output_type": "stream",
     "text": [
      "enter your name: dominion\n",
      "dominion\n",
      "dominion\n",
      "dominion\n",
      "dominion\n",
      "dominion\n",
      "dominion\n",
      "dominion\n",
      "dominion\n",
      "dominion\n",
      "dominion\n"
     ]
    }
   ],
   "source": [
    "name = input('enter your name: ')\n",
    "for i in range(10):\n",
    "    print(name)"
   ]
  },
  {
   "cell_type": "code",
   "execution_count": 5,
   "id": "508509fe",
   "metadata": {},
   "outputs": [
    {
     "name": "stdout",
     "output_type": "stream",
     "text": [
      "4\n",
      "4\n",
      "4\n",
      "4\n",
      "4\n",
      "4\n",
      "4\n",
      "4\n",
      "4\n",
      "4\n"
     ]
    }
   ],
   "source": [
    "from random import randint\n",
    "x = randint(3,6)\n",
    "for i in range(10):\n",
    "    print(x)"
   ]
  },
  {
   "cell_type": "code",
   "execution_count": 6,
   "id": "bac0fa06",
   "metadata": {},
   "outputs": [
    {
     "name": "stdout",
     "output_type": "stream",
     "text": [
      "57\n"
     ]
    }
   ],
   "source": [
    "from random import randint\n",
    "x = randint(1,50)\n",
    "y = randint(2,5)\n",
    "xy = x*y\n",
    "print(x*y)"
   ]
  },
  {
   "cell_type": "code",
   "execution_count": 7,
   "id": "3eefa172",
   "metadata": {},
   "outputs": [
    {
     "name": "stdout",
     "output_type": "stream",
     "text": [
      "A random number between 1 and 10:  7\n",
      "dominion\n",
      "dominion\n",
      "dominion\n",
      "dominion\n",
      "dominion\n",
      "dominion\n",
      "dominion\n"
     ]
    }
   ],
   "source": [
    "from random import randint\n",
    "x = randint(1,10)\n",
    "print('A random number between 1 and 10: ', x)\n",
    "\n",
    "for i in range(x):\n",
    "    print('dominion')"
   ]
  },
  {
   "cell_type": "code",
   "execution_count": 9,
   "id": "0723673f",
   "metadata": {},
   "outputs": [
    {
     "name": "stdout",
     "output_type": "stream",
     "text": [
      "A random decimal number between 1 and 10:  2.89\n"
     ]
    }
   ],
   "source": [
    "import random\n",
    "import math\n",
    "\n",
    "x = round(random.uniform(1,10), 2)\n",
    "\n",
    "print('A random decimal number between 1 and 10: ', x)"
   ]
  },
  {
   "cell_type": "code",
   "execution_count": 1,
   "id": "8c57dabd",
   "metadata": {},
   "outputs": [
    {
     "name": "stdout",
     "output_type": "stream",
     "text": [
      "input number x: 20\n",
      "input number y: 15\n",
      "the value of:  15.25\n"
     ]
    }
   ],
   "source": [
    "x = eval(input('input number x: '))\n",
    "y = eval(input('input number y: '))\n",
    "xy = (x-y)/x+y\n",
    "print('the value of: ', (x-y)/x+y)\n"
   ]
  },
  {
   "cell_type": "code",
   "execution_count": 8,
   "id": "9a63e812",
   "metadata": {},
   "outputs": [
    {
     "name": "stdout",
     "output_type": "stream",
     "text": [
      "enter hour: 3\n",
      "press 1 for {am} or 2 for {pm}? (1/2): 2\n",
      "how many hours into the future: 5\n"
     ]
    },
    {
     "ename": "TypeError",
     "evalue": "unsupported operand type(s) for +: 'int' and 'str'",
     "output_type": "error",
     "traceback": [
      "\u001b[1;31m---------------------------------------------------------------------------\u001b[0m",
      "\u001b[1;31mTypeError\u001b[0m                                 Traceback (most recent call last)",
      "\u001b[1;32m<ipython-input-8-75138826490c>\u001b[0m in \u001b[0;36m<module>\u001b[1;34m\u001b[0m\n\u001b[0;32m      6\u001b[0m     \u001b[0mprint\u001b[0m\u001b[1;33m(\u001b[0m\u001b[0mhour\u001b[0m \u001b[1;33m+\u001b[0m \u001b[0mam\u001b[0m\u001b[1;33m)\u001b[0m\u001b[1;33m\u001b[0m\u001b[1;33m\u001b[0m\u001b[0m\n\u001b[0;32m      7\u001b[0m \u001b[1;32melif\u001b[0m \u001b[0mans\u001b[0m \u001b[1;33m==\u001b[0m \u001b[1;34m'2'\u001b[0m\u001b[1;33m:\u001b[0m\u001b[1;33m\u001b[0m\u001b[1;33m\u001b[0m\u001b[0m\n\u001b[1;32m----> 8\u001b[1;33m     \u001b[0mprint\u001b[0m\u001b[1;33m(\u001b[0m\u001b[0mhour\u001b[0m \u001b[1;33m+\u001b[0m \u001b[1;34m'pm'\u001b[0m\u001b[1;33m)\u001b[0m\u001b[1;33m\u001b[0m\u001b[1;33m\u001b[0m\u001b[0m\n\u001b[0m\u001b[0;32m      9\u001b[0m \u001b[1;32melse\u001b[0m\u001b[1;33m:\u001b[0m\u001b[1;33m\u001b[0m\u001b[1;33m\u001b[0m\u001b[0m\n\u001b[0;32m     10\u001b[0m     \u001b[0mprint\u001b[0m\u001b[1;33m(\u001b[0m\u001b[1;34m'Invalid input'\u001b[0m\u001b[1;33m)\u001b[0m\u001b[1;33m\u001b[0m\u001b[1;33m\u001b[0m\u001b[0m\n",
      "\u001b[1;31mTypeError\u001b[0m: unsupported operand type(s) for +: 'int' and 'str'"
     ]
    }
   ],
   "source": [
    "hour = int(input('enter hour: '))\n",
    "ans = input('press 1 for {am} or 2 for {pm}? (1/2): ')\n",
    "hours_future = int(input('how many hours into the future: '))\n",
    "hours = hour+hours_future\n",
    "if ans == '1':\n",
    "    print(hour, am)\n",
    "elif ans == '2':\n",
    "    print(hour, 'pm')\n",
    "else:\n",
    "    print('Invalid input')\n"
   ]
  },
  {
   "cell_type": "markdown",
   "id": "101ca1a9",
   "metadata": {},
   "source": [
    " import numbers\n",
    "\n",
    "\n",
    "def search_contact(contact_book, key):\n",
    "    if contact_book:\n",
    "        if key in contact_book:\n",
    "            contact = contact_book[key]\n",
    "            return contact\n",
    "        else:\n",
    "            return('contact does not exist!')\n",
    "        else:\n",
    "            print('contact list empty')\n",
    "        return none\n",
    "    \n",
    "def print_contact_detail(contact):\n",
    "    print(f'Firstname: {contact[\"fname\"]}')\n",
    "    print(f'Lastname: {contact[\"lname\"]}')\n",
    "    print(f'Address: {contact[\"add\"]}')\n",
    "    print(f'Phones: {contact[\"phones\"]}')\n",
    "    print(f'Emails: {contact[\"emails\"]}')\n",
    "    \n",
    "    \n",
    "    \n",
    "def delete_contact(contact_book, key):\n",
    "    contact_book.pop(key)\n",
    "    \n",
    "\n",
    "\n",
    "def add_contact(contact_book):\n",
    "    firstname = input('Firstname: ').capitalize()\n",
    "    lastname = input('Lastname: ').capitalize()\n",
    "    address = input('Address: ')\n",
    "    phones = set()\n",
    "    phone_cnt = len(phones) + 1\n",
    "    emails = set()\n",
    "    email_cnt = len(emails) + 1\n",
    "\n",
    "    while True:\n",
    "\n",
    "        phone = input(f'Phone {phone_cnt}: ')\n",
    "        if len(phone) != 11:\n",
    "            print('Invalid phone no')\n",
    "            continue\n",
    "        elif not isinstance(int(phone), numbers.Number):\n",
    "            print('input numbers only')\n",
    "            continue\n",
    "        else:\n",
    "            phone = int(phone)\n",
    "            phones.add(phone)\n",
    "            phone_cnt += 1\n",
    "            ans = input('Do you want add another phone no? (Y/N): ').upper()\n",
    "            if ans != 'Y':\n",
    "                break     \n",
    "\n",
    "    while True:\n",
    "        email = input(f'Email {email_cnt}: ')\n",
    "        emails.add(email)\n",
    "        email_cnt += 1\n",
    "        ans = input('Do you want add another email? (Y/N): ').upper()\n",
    "        if ans != 'Y':\n",
    "            break     \n",
    "\n",
    "    while True:\n",
    "        key = input('Save as...')\n",
    "        if key in contact_book:\n",
    "            print('Contact already exist!')\n",
    "        else:\n",
    "            contact_book[key] = {'fname': firstname,\n",
    "                                'lname': lastname,\n",
    "                                'add': address,\n",
    "                                'phones': phones,\n",
    "                                'emails': emails}\n",
    "            print('Contact saved...')\n",
    "            break\n",
    "\n",
    "\n",
    "\n",
    "\n",
    "def app():\n",
    "    contact_book = {}\n",
    "    trial = 0\n",
    "\n",
    "    while True:\n",
    "        choice = input('[1]: Add Contact\\n[2]: Search Contact\\n'\\\n",
    "                      '[3]: Edit Contact\\n[4]: Delete Contact\\n'\\\n",
    "                      '[#]: Exit\\nEnter Option: ')\n",
    "\n",
    "        if choice == '1':\n",
    "            add_contact(contact_book)\n",
    "        elif choice == '2':\n",
    "            if contact_book:\n",
    "                key = input('Enter Contact name: ')\n",
    "                if key in contact_book:\n",
    "                    contact = contact_book[key]\n",
    "                    print(f'Firstname: {contact[\"fname\"]}')\n",
    "                    print(f'Lastname: {contact[\"lname\"]}')\n",
    "                    print(f'Address: {contact[\"add\"]}')\n",
    "                    print(f'Phones: {contact[\"phones\"]}')\n",
    "                    print(f'Emails: {contact[\"emails\"]}')\n",
    "                else:\n",
    "                    print('Contact does not exist!')\n",
    "            else:\n",
    "                print('Contact list empty')\n",
    "        elif choice == '3':\n",
    "            pass\n",
    "        elif choice == '4':\n",
    "            pass\n",
    "        elif choice == '#':\n",
    "            break\n",
    "        else:\n",
    "            print('Invalid Option')\n",
    "            trial += 1\n",
    "            if trial == 3:\n",
    "                break\n",
    "                \n",
    "                \n",
    "    app()\n"
   ]
  },
  {
   "cell_type": "code",
   "execution_count": null,
   "id": "68725720",
   "metadata": {},
   "outputs": [],
   "source": [
    "import numbers\n",
    "\n",
    "def search_contact(contact_book, key):\n",
    "    if contact_book:\n",
    "        if key in contact_book:\n",
    "            contact = contact_book[key]\n",
    "            return contact\n",
    "        else:\n",
    "            return('contact does not exist!')\n",
    "        else:\n",
    "            print('contact list empty')\n",
    "        return none\n",
    "    \n",
    "def print_contact_detail(contact):\n",
    "    print(f'Firstname: {contact[\"fname\"]}')\n",
    "    print(f'Lastname: {contact[\"lname\"]}')\n",
    "    print(f'Address: {contact[\"add\"]}')\n",
    "    print(f'Phones: {contact[\"phones\"]}')\n",
    "    print(f'Emails: {contact[\"emails\"]}')\n",
    "    \n",
    "    \n",
    "    \n",
    "def delete_contact(contact_book, ):\n",
    "    \n",
    "    \n",
    "def add_contact(contact_book):\n",
    "    firstname = input('Firstname')\n",
    "    \n",
    "    "
   ]
  },
  {
   "cell_type": "code",
   "execution_count": null,
   "id": "6bc9a9ab",
   "metadata": {},
   "outputs": [],
   "source": [
    "import numbers\n",
    "import json\n",
    "import os\n",
    "\n",
    "def save_contact(contact_book):\n",
    "    with open('./wkend/contact.txt', 'w+') as file:\n",
    "        file.write(str(contact_book))\n",
    "        #file.write(json.dump(contact_book))\n",
    "        \n",
    "def load_contact():\n",
    "    contact_list = {}\n",
    "    if os.path.isfile('./wkend/contact.txt'):\n",
    "        with open('./wkend/contact.txt', 'r') as file:\n",
    "            contact_list = eval(file.read())\n",
    "            #contact_list = json.load(file.read())\n",
    "    return contact_list\n",
    "\n",
    "def search_contact(contact_book, key):\n",
    "    if key in contact_book:\n",
    "        contact = contact_book[key]\n",
    "        return contact\n",
    "    return None\n",
    "\n",
    "\n",
    "def print_contact_details(contact):\n",
    "    print(f'Firstname: {contact[\"fname\"]}')\n",
    "    print(f'Lastname: {contact[\"lname\"]}')\n",
    "    print(f'Address: {contact[\"add\"]}')\n",
    "    print(f'Phones: {contact[\"phones\"]}')\n",
    "    print(f'Emails: {contact[\"emails\"]}')\n",
    "    \n",
    "\n",
    "def delete_contact(contact_book, key):\n",
    "    contact_book.pop(key)\n",
    "    save_contact(contact_book)\n",
    "\n",
    "def add_contact(contact_book):\n",
    "    firstname = input('Firstname: ').capitalize()\n",
    "    lastname = input('Lastname: ').capitalize()\n",
    "    address = input('Address: ')\n",
    "    phones = set()\n",
    "    phone_cnt = len(phones) + 1\n",
    "    emails = set()\n",
    "    email_cnt = len(emails) + 1\n",
    "\n",
    "    while True:\n",
    "\n",
    "        phone = input(f'Phone {phone_cnt}: ')\n",
    "        if len(phone) != 11:\n",
    "            print('Invalid phone no')\n",
    "            continue\n",
    "        elif not isinstance(int(phone), numbers.Number):\n",
    "            print('input numbers only')\n",
    "            continue\n",
    "        else:\n",
    "            phone = int(phone)\n",
    "            phones.add(phone)\n",
    "            phone_cnt += 1\n",
    "            ans = input('Do you want add another phone no? (Y/N): ').upper()\n",
    "            if ans != 'Y':\n",
    "                break     \n",
    "\n",
    "    while True:\n",
    "        email = input(f'Email {email_cnt}: ')\n",
    "        emails.add(email)\n",
    "        email_cnt += 1\n",
    "        ans = input('Do you want add another email? (Y/N): ').upper()\n",
    "        if ans != 'Y':\n",
    "            break     \n",
    "\n",
    "    while True:\n",
    "        key = input('Save as...')\n",
    "        if key in contact_book:\n",
    "            print('Contact already exist!')\n",
    "        else:\n",
    "            contact_book[key] = {'fname': firstname,\n",
    "                                'lname': lastname,\n",
    "                                'add': address,\n",
    "                                'phones': phones,\n",
    "                                'emails': emails}\n",
    "            print('Contact saved...')\n",
    "            break\n",
    "    save_contact(contact_book)\n",
    "\n",
    "\n",
    "\n",
    "def app():\n",
    "    contact_book = load_contact()\n",
    "    trial = 0\n",
    "\n",
    "    while True:\n",
    "        choice = input('[1]: Add Contact\\n[2]: Search Contact\\n'\\\n",
    "                      '[3]: Edit Contact\\n[4]: Delete Contact\\n'\\\n",
    "                      '[#]: Exit\\nEnter Option: ')\n",
    "\n",
    "        if choice == '1':\n",
    "            add_contact(contact_book)\n",
    "        elif choice == '2':    \n",
    "            if contact_book:\n",
    "                key = input('Enter Contact name: ')\n",
    "                contact = search_contact(contact_book, key)\n",
    "                if contact:\n",
    "                    print_contact_details(contact)\n",
    "                else:\n",
    "                    print('Contact does not exist!')\n",
    "            else:\n",
    "                print('Contact list empty')\n",
    "\n",
    "        elif choice == '3':\n",
    "            pass\n",
    "        elif choice == '4':\n",
    "            if contact_book:\n",
    "                key = input('Enter Contact name: ')\n",
    "                contact = search_contact(contact_book, key)\n",
    "                if contact:\n",
    "                    delete_contact(contact_book, key)\n",
    "                else:\n",
    "                    print('Contact does not exist!')\n",
    "            else:\n",
    "                print('Contact list empty')\n",
    "        elif choice == '#':\n",
    "            break\n",
    "        else:\n",
    "            print('Invalid Option')\n",
    "            trial += 1\n",
    "            if trial == 3:\n",
    "                break"
   ]
  },
  {
   "cell_type": "code",
   "execution_count": null,
   "id": "b1e4f3f5",
   "metadata": {},
   "outputs": [],
   "source": [
    "import abc\n",
    "\n",
    "class Animal(abc.ABC):\n",
    "    __population = 0\n",
    "    def__init__(self, h, e, legs):\n",
    "        self.heads = h\n",
    "        self.eyes = e\n",
    "        self.legs = legs\n",
    "    \n",
    "    @abc.abstractmethod\n",
    "    def move(self):\n",
    "        psaa\n",
    "        \n",
    "    def communicate(self):\n",
    "        print('Animal is making sound..')\n",
    "        \n",
    "    def eat(self, food):\n",
    "        print(f'Animal is eating{food}')\n",
    "        \n",
    "    @classmethod\n",
    "    def census(cls):\n",
    "        return Animal.__population\n",
    "    \n",
    "    \n",
    "class Human(Animal):\n",
    "    def__init__(self,h, e, colour, name, legs=2, hands=2):\n",
    "        Animal.__init__(self, h, e, legs)\n",
    "        self.hands = hands\n",
    "        self.color = color\n",
    "        self.name = name\n",
    "        \n",
    "    def move(self):\n",
    "        pass\n",
    "    \n",
    "    def eat(self, food):\n",
    "        print(f'{self.name} is eating {food}')\n",
    "    \n",
    "    \n",
    "bamboy = Human(1, 2, 'dark', 'Bomboy')\n",
    "bomboy.eat('Ricen Beans')\n",
    "bomboy.communicate('Helen')\n",
    "bomboy.communicate()"
   ]
  },
  {
   "cell_type": "code",
   "execution_count": null,
   "id": "3f1f9df7",
   "metadata": {},
   "outputs": [],
   "source": [
    "import abc\n",
    "\n",
    "class Animal(abc.ABC):\n",
    "    __population = 0\n",
    "    def __init__(self, h, e, legs):\n",
    "        self.heads = h\n",
    "        self.eyes = e\n",
    "        self.legs = legs\n",
    "       \n",
    "    @abc.abstractmethod\n",
    "    def move(self):\n",
    "        pass\n",
    "    \n",
    "    def communicate(self):\n",
    "        print('Animal is making sound..')\n",
    "        \n",
    "    def eat(self, food):\n",
    "        print(f'Animal is eating {food}')\n",
    "    \n",
    "    @classmethod\n",
    "    def census(cls):\n",
    "        return Animal.__population\n",
    "\n",
    "\n",
    "class Human(Animal):\n",
    "    def __init__(self, h, e, color, name, legs=2, hands=2):\n",
    "        Animal.__init__(self, h, e, legs)\n",
    "        self.hands = hands\n",
    "        self.color = color\n",
    "        self.name = name\n",
    "  \n",
    "    def move(self):\n",
    "        pass\n",
    "    \n",
    "    def eat(self, food):\n",
    "        print(f'{self.name} is eating {food}')\n",
    "        \n",
    "    def communicate(self, person=None):\n",
    "        print(f'{self.name} is communicating with {person}..')\n",
    "        \n",
    "\n",
    "bomboy = Human(1, 2, 'dark', 'Bomboy')\n",
    "bomboy.eat('Rice n Beans')\n",
    "bomboy.communicate('Helen')\n",
    "bomboy.communicate()"
   ]
  },
  {
   "cell_type": "code",
   "execution_count": null,
   "id": "8b749c15",
   "metadata": {},
   "outputs": [],
   "source": []
  },
  {
   "cell_type": "code",
   "execution_count": null,
   "id": "3b6bdd66",
   "metadata": {},
   "outputs": [],
   "source": [
    "class Car:\n",
    "    @classmethod\n",
    "    def factory(cls, type):\n",
    "        class Sedan(Car):\n",
    "            def display(self):\n",
    "                print(\"This car is a sedan\")\n",
    "        class Sports(Car):\n",
    "            def display(self):\n",
    "                print(\"This car is a sports car\")\n",
    "            def displayCar(self):\n",
    "                print(\"This is a sports car\")\n",
    "                \n",
    "        if (type == \"Sedan\"):\n",
    "            return Sedan()\n",
    "        if (type == \"Sports\"):\n",
    "            return Sports()\n",
    "\n",
    "\n",
    "if __name__ == \"__main__\":\n",
    "    car1 = Car.factory('Sedan')\n",
    "    car1.display()\n",
    "    \n",
    "    car2 = Car.factory('Sports')\n",
    "    car2.display()"
   ]
  },
  {
   "cell_type": "code",
   "execution_count": null,
   "id": "085685af",
   "metadata": {},
   "outputs": [],
   "source": [
    "import abc\n",
    "\n",
    "class Car(abc.ABC):\n",
    "    \n",
    "    @abc.abstractmethod\n",
    "    def display(self):\n",
    "        pass\n",
    "    \n",
    "    \n",
    "class Sedan(Car):\n",
    "    def display(self):\n",
    "        print(\"This car is a sedan\")\n",
    "        \n",
    "class Sports(Car):\n",
    "    def display(self):\n",
    "        print(\"This car is a sports car\")\n",
    "        \n",
    "    def displayCar(self):\n",
    "        print(\"This is a sports car\")\n",
    "        \n",
    "if __name__ == \"__main__\":\n",
    "    car1 = Sedan()\n",
    "    car1.display()\n",
    "    #car1.displayCar()\n",
    "    \n",
    "    car2 = Sports()\n",
    "    car2.display()\n",
    "    car2.displayCar()"
   ]
  },
  {
   "cell_type": "code",
   "execution_count": null,
   "id": "ddaca135",
   "metadata": {},
   "outputs": [],
   "source": [
    "import abc\n",
    "\n",
    "class Animal(abc.ABC):\n",
    "    __population = 0\n",
    "    def __init__(self, h, e, legs):\n",
    "        self.heads = h\n",
    "        self.eyes = e\n",
    "        self.legs = legs\n",
    "       \n",
    "    @abc.abstractmethod\n",
    "    def move(self):\n",
    "        pass\n",
    "    \n",
    "    def communicate(self):\n",
    "        print('Animal is making sound..')\n",
    "        \n",
    "    def eat(self, food):\n",
    "        print(f'Animal is eating {food}')\n",
    "    \n",
    "    @classmethod\n",
    "    def census(cls):\n",
    "        return Animal.__population\n",
    "\n",
    "\n",
    "class Human(Animal):\n",
    "    def __init__(self, h, e, color, name, legs=2, hands=2):\n",
    "        Animal.__init__(self, h, e, legs)\n",
    "        self.hands = hands\n",
    "        self.__melanin = color\n",
    "        self.name = name\n",
    "  \n",
    "    def move(self):\n",
    "        pass\n",
    "    \n",
    "    def eat(self, food):\n",
    "        print(f'{self.name} is eating {food}')\n",
    "        \n",
    "    def communicate(self, person=None):\n",
    "        print(f'{self.name} is communicating with {person}..')\n",
    "       \n",
    "    def __set_melanin(self, value):\n",
    "        self.__melanin = value\n",
    "        \n",
    "    def __get_melanin(self):\n",
    "        return self.__melanin\n",
    "    \n",
    "    complexion = property(__get_melanin)\n",
    "    \n",
    "    #alternatively        \n",
    "    @property\n",
    "    def complexion(self):\n",
    "        return self.__melanin\n",
    "\n",
    "    @complexion.setter\n",
    "    def complexion(self, value):\n",
    "        self.__melanin = value    \n",
    "        \n",
    "\n",
    "bomboy = Human(1, 2, 'dark', 'Bomboy')\n",
    "bomboy.eat('Rice n Beans')\n",
    "bomboy.communicate('Helen')\n",
    "bomboy.communicate()\n",
    "print(bomboy.complexion)\n",
    "bomboy.complexion = 'white'"
   ]
  },
  {
   "cell_type": "code",
   "execution_count": null,
   "id": "12299fb8",
   "metadata": {},
   "outputs": [],
   "source": [
    "from tkinter import *\n",
    "\n",
    "class Application(Frame):\n",
    "    def_init_(self, master):\n",
    "        super(Application, self)._init_(master)\n",
    "        sef.grid()\n",
    "        self.lbl_header = Label(text='APPLICATION FORM' font='Arial 24 bold')\n",
    "        seil.lbl_hearder.grid(row=0, colume=0)\n",
    "\n",
    "self.lbl_fname = Label(self, text='Firstname: ', font='Arial 18 bold')\n",
    "self\n",
    "    \n",
    "window = Tk()\n",
    "window.title(\"Frame Title\")\n",
    "window.geometry('300x400')\n",
    "app = Application(window)\n",
    "app.mainloop()"
   ]
  },
  {
   "cell_type": "code",
   "execution_count": 1,
   "id": "e8b780ad",
   "metadata": {},
   "outputs": [
    {
     "ename": "AttributeError",
     "evalue": "'Application' object has no attribute 'reset'",
     "output_type": "error",
     "traceback": [
      "\u001b[1;31m---------------------------------------------------------------------------\u001b[0m",
      "\u001b[1;31mAttributeError\u001b[0m                            Traceback (most recent call last)",
      "\u001b[1;32m<ipython-input-1-1ea1a412830c>\u001b[0m in \u001b[0;36m<module>\u001b[1;34m\u001b[0m\n\u001b[0;32m     90\u001b[0m \u001b[0mwindow\u001b[0m\u001b[1;33m.\u001b[0m\u001b[0mtitle\u001b[0m\u001b[1;33m(\u001b[0m\u001b[1;34m\"Frame Title\"\u001b[0m\u001b[1;33m)\u001b[0m\u001b[1;33m\u001b[0m\u001b[1;33m\u001b[0m\u001b[0m\n\u001b[0;32m     91\u001b[0m \u001b[0mwindow\u001b[0m\u001b[1;33m.\u001b[0m\u001b[0mgeometry\u001b[0m\u001b[1;33m(\u001b[0m\u001b[1;34m'500x700'\u001b[0m\u001b[1;33m)\u001b[0m\u001b[1;33m\u001b[0m\u001b[1;33m\u001b[0m\u001b[0m\n\u001b[1;32m---> 92\u001b[1;33m \u001b[0mapp\u001b[0m \u001b[1;33m=\u001b[0m \u001b[0mApplication\u001b[0m\u001b[1;33m(\u001b[0m\u001b[0mwindow\u001b[0m\u001b[1;33m)\u001b[0m\u001b[1;33m\u001b[0m\u001b[1;33m\u001b[0m\u001b[0m\n\u001b[0m\u001b[0;32m     93\u001b[0m \u001b[0mapp\u001b[0m\u001b[1;33m.\u001b[0m\u001b[0mmainloop\u001b[0m\u001b[1;33m(\u001b[0m\u001b[1;33m)\u001b[0m\u001b[1;33m\u001b[0m\u001b[1;33m\u001b[0m\u001b[0m\n",
      "\u001b[1;32m<ipython-input-1-1ea1a412830c>\u001b[0m in \u001b[0;36m__init__\u001b[1;34m(self, master)\u001b[0m\n\u001b[0;32m     12\u001b[0m         \u001b[0mself\u001b[0m\u001b[1;33m.\u001b[0m\u001b[0mchk_skills\u001b[0m \u001b[1;33m=\u001b[0m \u001b[1;33m[\u001b[0m\u001b[1;33m]\u001b[0m\u001b[1;33m\u001b[0m\u001b[1;33m\u001b[0m\u001b[0m\n\u001b[0;32m     13\u001b[0m         \u001b[1;31m#self.skills = StringVar()\u001b[0m\u001b[1;33m\u001b[0m\u001b[1;33m\u001b[0m\u001b[1;33m\u001b[0m\u001b[0m\n\u001b[1;32m---> 14\u001b[1;33m         \u001b[0mself\u001b[0m\u001b[1;33m.\u001b[0m\u001b[0mcreate_widgets\u001b[0m\u001b[1;33m(\u001b[0m\u001b[1;33m)\u001b[0m\u001b[1;33m\u001b[0m\u001b[1;33m\u001b[0m\u001b[0m\n\u001b[0m\u001b[0;32m     15\u001b[0m \u001b[1;33m\u001b[0m\u001b[0m\n\u001b[0;32m     16\u001b[0m \u001b[1;33m\u001b[0m\u001b[0m\n",
      "\u001b[1;32m<ipython-input-1-1ea1a412830c>\u001b[0m in \u001b[0;36mcreate_widgets\u001b[1;34m(self)\u001b[0m\n\u001b[0;32m     74\u001b[0m \u001b[1;33m\u001b[0m\u001b[0m\n\u001b[0;32m     75\u001b[0m \u001b[1;33m\u001b[0m\u001b[0m\n\u001b[1;32m---> 76\u001b[1;33m         \u001b[0mself\u001b[0m\u001b[1;33m.\u001b[0m\u001b[0mbutt\u001b[0m \u001b[1;33m=\u001b[0m \u001b[0mButton\u001b[0m\u001b[1;33m(\u001b[0m\u001b[0mself\u001b[0m\u001b[1;33m,\u001b[0m \u001b[0mtext\u001b[0m\u001b[1;33m=\u001b[0m\u001b[1;34m'RESET'\u001b[0m\u001b[1;33m,\u001b[0m \u001b[0mfont\u001b[0m\u001b[1;33m=\u001b[0m\u001b[1;34m'Arial 13 bold'\u001b[0m\u001b[1;33m,\u001b[0m \u001b[0mcommand\u001b[0m\u001b[1;33m=\u001b[0m\u001b[0mself\u001b[0m\u001b[1;33m.\u001b[0m\u001b[0mreset\u001b[0m\u001b[1;33m,\u001b[0m \u001b[0mfg\u001b[0m\u001b[1;33m=\u001b[0m\u001b[1;34m'green'\u001b[0m\u001b[1;33m)\u001b[0m\u001b[1;33m\u001b[0m\u001b[1;33m\u001b[0m\u001b[0m\n\u001b[0m\u001b[0;32m     77\u001b[0m         \u001b[0mself\u001b[0m\u001b[1;33m.\u001b[0m\u001b[0mbutt\u001b[0m\u001b[1;33m.\u001b[0m\u001b[0mgrid\u001b[0m\u001b[1;33m(\u001b[0m\u001b[0mrow\u001b[0m\u001b[1;33m=\u001b[0m\u001b[1;36m25\u001b[0m\u001b[1;33m,\u001b[0m \u001b[0mcolumn\u001b[0m\u001b[1;33m=\u001b[0m\u001b[1;36m0\u001b[0m\u001b[1;33m,\u001b[0m \u001b[0msticky\u001b[0m\u001b[1;33m=\u001b[0m\u001b[0mW\u001b[0m\u001b[1;33m)\u001b[0m\u001b[1;33m\u001b[0m\u001b[1;33m\u001b[0m\u001b[0m\n\u001b[0;32m     78\u001b[0m         \u001b[0mself\u001b[0m\u001b[1;33m.\u001b[0m\u001b[0mbutt\u001b[0m \u001b[1;33m=\u001b[0m \u001b[0mButtton\u001b[0m\u001b[1;33m(\u001b[0m\u001b[0mself\u001b[0m\u001b[1;33m,\u001b[0m \u001b[0mtext\u001b[0m\u001b[1;33m=\u001b[0m\u001b[1;34m'SUBMIT'\u001b[0m\u001b[1;33m,\u001b[0m \u001b[0mfont\u001b[0m\u001b[1;33m=\u001b[0m\u001b[1;34m'Arial 18'\u001b[0m\u001b[1;33m,\u001b[0m \u001b[0mcommand\u001b[0m\u001b[1;33m=\u001b[0m\u001b[0mself\u001b[0m\u001b[1;33m.\u001b[0m\u001b[0msubmit\u001b[0m\u001b[1;33m,\u001b[0m \u001b[0mfg\u001b[0m\u001b[1;33m=\u001b[0m\u001b[1;34m'blue'\u001b[0m\u001b[1;33m)\u001b[0m\u001b[1;33m\u001b[0m\u001b[1;33m\u001b[0m\u001b[0m\n",
      "\u001b[1;31mAttributeError\u001b[0m: 'Application' object has no attribute 'reset'"
     ]
    }
   ],
   "source": [
    "from tkinter import *\n",
    "from tkinter import ttk\n",
    "\n",
    "class Application(Frame):\n",
    "    def __init__(self, master):\n",
    "        super(Application, self).__init__(master)\n",
    "        self.grid()\n",
    "        self.gender = StringVar()\n",
    "        self.state = StringVar()\n",
    "        self.stateList = ['Abuja', 'Lagos', 'Oyo', 'Delta', 'Kano', 'Abia', 'Adamawa', 'Akwa-Ibom', 'Anambra']\n",
    "        self.skillset = ['Java', 'Python', 'C#']\n",
    "        self.chk_skills = []\n",
    "        #self.skills = StringVar()\n",
    "        self.create_widgets()\n",
    "        \n",
    "    \n",
    "    def create_widgets(self):\n",
    "        self.lbl_header = Label(self, text='APPLICATION FORM', font='Arial 24 bold')\n",
    "        self.lbl_header.grid(row=0, column=0, columnspan=2)\n",
    "        \n",
    "        self.lbl_empty = Label(self, text='', font='Arial 18 bold')\n",
    "        self.lbl_empty.grid(row=1, column=0, sticky=W)\n",
    "        \n",
    "        self.lbl_fname = Label(self, text='Firstname: ', font='Arial 18 bold')\n",
    "        self.lbl_fname.grid(row=2, column=0, sticky=W)\n",
    "        self.ent_fname = Entry(self, width=20, font='Arial 18')\n",
    "        self.ent_fname.grid(row=2, column=1, sticky=W)\n",
    "        \n",
    "        self.lbl_lname = Label(self, text='Lastname: ', font='Arial 18 bold')\n",
    "        self.lbl_lname.grid(row=3, column=0, sticky=W)\n",
    "        self.ent_lname = Entry(self, width=20, font='Arial 18')\n",
    "        self.ent_lname.grid(row=3, column=1, sticky=W)\n",
    "        \n",
    "        self.lbl_uname = Label(self, text='Username: ', font='Arial 18 bold')\n",
    "        self.lbl_uname.grid(row=4, column=0, sticky=W)\n",
    "        self.ent_uname = Entry(self, width=20, font='Arial 18')\n",
    "        self.ent_uname.grid(row=4, column=1, sticky=W)\n",
    "        \n",
    "        self.lbl_pword = Label(self, text='Password: ', font='Arial 18 bold')\n",
    "        self.lbl_pword.grid(row=5, column=0, sticky=W)\n",
    "        self.ent_pword = Entry(self, width=20, font='Arial 18', show='*')\n",
    "        self.ent_pword.grid(row=5, column=1, sticky=W)\n",
    "        \n",
    "        self.lbl_gender = Label(self, text='Gender: ', font='Arial 18 bold')\n",
    "        self.lbl_gender.grid(row=6, column=0, sticky=W)\n",
    "        self.rad_male = Radiobutton(self, text='Male', font='Arial 18', variable=self.gender, value='Male')\n",
    "        self.rad_male.grid(row=6, column=1, sticky=W)\n",
    "        self.rad_female = Radiobutton(self, text='Female', font='Arial 18', variable=self.gender, value='Female')\n",
    "        self.rad_female.grid(row=7, column=1, sticky=W)\n",
    "        self.rad_male.select()\n",
    "        \n",
    "        self.lbl_address = Label(self, text='Address: ', font='Arial 18 bold')\n",
    "        self.lbl_address.grid(row=8, column=0, sticky=W)\n",
    "        self.ent_address = Entry(self, width=20, font='Arial 18')\n",
    "        self.ent_address.grid(row=8, column=1, sticky=W)\n",
    "        self.ent_address2 = Entry(self, width=20, font='Arial 18')\n",
    "        self.ent_address2.grid(row=9, column=1, sticky=W)\n",
    "        self.lbl_city = Label(self, text='City: ', font='Arial 18 bold')\n",
    "        self.lbl_city.grid(row=10, column=0, sticky=W)\n",
    "        self.ent_city = Entry(self, width=15, font='Arial 18')\n",
    "        self.ent_city.grid(row=10, column=1, sticky=W)\n",
    "        self.lbl_state = Label(self, text='State: ', font='Arial 18 bold')\n",
    "        self.lbl_state.grid(row=11, column=0, sticky=W)\n",
    "        self.cmb_state = ttk.Combobox(self, textvariable=self.state, values=self.stateList, font='Arial 18', width=12)\n",
    "        self.cmb_state.grid(row=11, column=1, sticky=W)\n",
    "        self.lbl_skills = Label(self, text='Skills: ', font='Arial 18 bold')\n",
    "        self.lbl_skills.grid(row=12, column=0, sticky=W)\n",
    "        \n",
    "        line=12\n",
    "        for i in range(len(self.skillset)):\n",
    "            self.chk_skills.append(Checkbutton(self, text=self.skillset[i], font='Arial 18'))\n",
    "            self.chk_skills[i].grid(row=line, column=1, sticky=W)\n",
    "            line+=1\n",
    "            \n",
    "            \n",
    "        self.butt = Button(self, text='RESET', font='Arial 13 bold', command=self.reset, fg='green')\n",
    "        self.butt.grid(row=25, column=0, sticky=W)\n",
    "        self.butt = Buttton(self, text='SUBMIT', font='Arial 18', command=self.submit, fg='blue')\n",
    "        self.butt.grid(row=25, column=1, sticky=N)\n",
    "            \n",
    "        \n",
    "        \n",
    "        \n",
    "        \n",
    "        \n",
    "        \n",
    "\n",
    "\n",
    "window = Tk()\n",
    "window.title(\"Frame Title\")\n",
    "window.geometry('500x700')\n",
    "app = Application(window)\n",
    "app.mainloop()"
   ]
  },
  {
   "cell_type": "code",
   "execution_count": 1,
   "id": "1e537cb2",
   "metadata": {},
   "outputs": [
    {
     "ename": "OperationalError",
     "evalue": "table skillset already exists",
     "output_type": "error",
     "traceback": [
      "\u001b[1;31m---------------------------------------------------------------------------\u001b[0m",
      "\u001b[1;31mOperationalError\u001b[0m                          Traceback (most recent call last)",
      "\u001b[1;32m<ipython-input-1-031661ee9f54>\u001b[0m in \u001b[0;36m<module>\u001b[1;34m\u001b[0m\n\u001b[0;32m      7\u001b[0m     \u001b[0mcursor\u001b[0m \u001b[1;33m=\u001b[0m \u001b[0mcon\u001b[0m\u001b[1;33m.\u001b[0m\u001b[0mcursor\u001b[0m\u001b[1;33m(\u001b[0m\u001b[1;33m)\u001b[0m\u001b[1;33m\u001b[0m\u001b[1;33m\u001b[0m\u001b[0m\n\u001b[0;32m      8\u001b[0m     \u001b[1;31m#cursor.execute(\"create table statelist(ID integer primary key autoincrement, State varchara(20));\")\u001b[0m\u001b[1;33m\u001b[0m\u001b[1;33m\u001b[0m\u001b[1;33m\u001b[0m\u001b[0m\n\u001b[1;32m----> 9\u001b[1;33m     \u001b[0mcursor\u001b[0m\u001b[1;33m.\u001b[0m\u001b[0mexecute\u001b[0m\u001b[1;33m(\u001b[0m\u001b[1;34m\"create table skillset(ID integer primary key autoincrement, Skill varchara(30));\"\u001b[0m\u001b[1;33m)\u001b[0m\u001b[1;33m\u001b[0m\u001b[1;33m\u001b[0m\u001b[0m\n\u001b[0m\u001b[0;32m     10\u001b[0m \u001b[1;33m\u001b[0m\u001b[0m\n\u001b[0;32m     11\u001b[0m     \u001b[1;31m#stmt = \"insert into statelist(state) values('kano')\"\u001b[0m\u001b[1;33m\u001b[0m\u001b[1;33m\u001b[0m\u001b[1;33m\u001b[0m\u001b[0m\n",
      "\u001b[1;31mOperationalError\u001b[0m: table skillset already exists"
     ]
    }
   ],
   "source": [
    "import sqlite3\n",
    "\n",
    "stateList = ['Abuja', 'Lagos', 'Oyo', 'Delta', 'Kano', 'Abia', 'Adamawa', 'Akwa-Ibom', 'Anambra']\n",
    "skillset = [('Java',), ('Python',), ('C#',)]\n",
    "\n",
    "with sqlite3.connect('ApllicationData.db') as con:\n",
    "    cursor = con.cursor()\n",
    "    #cursor.execute(\"create table statelist(ID integer primary key autoincrement, State varchara(20));\")\n",
    "    cursor.execute(\"create table skillset(ID integer primary key autoincrement, Skill varchara(30));\")\n",
    "    \n",
    "    #stmt = \"insert into statelist(state) values('kano')\"\n",
    "    #cursor.execute(stmt)\n",
    "    \n",
    "    stmt = \"insert into statelist(State) Values(?);\"\n",
    "    cursor.executemany(stmt, skillset)\n",
    "    \n",
    "    con.commit()\n",
    "    \n",
    "    \n",
    "    "
   ]
  },
  {
   "cell_type": "code",
   "execution_count": null,
   "id": "856383fe",
   "metadata": {},
   "outputs": [],
   "source": []
  }
 ],
 "metadata": {
  "kernelspec": {
   "display_name": "Python 3",
   "language": "python",
   "name": "python3"
  },
  "language_info": {
   "codemirror_mode": {
    "name": "ipython",
    "version": 3
   },
   "file_extension": ".py",
   "mimetype": "text/x-python",
   "name": "python",
   "nbconvert_exporter": "python",
   "pygments_lexer": "ipython3",
   "version": "3.8.8"
  }
 },
 "nbformat": 4,
 "nbformat_minor": 5
}
